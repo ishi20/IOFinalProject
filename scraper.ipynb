{
 "cells": [
  {
   "cell_type": "code",
   "execution_count": 6,
   "metadata": {},
   "outputs": [],
   "source": [
    "import urllib.request\n",
    "import urllib.parse\n",
    "import bs4 as bs\n",
    "import lxml\n",
    "import csv"
   ]
  },
  {
   "cell_type": "code",
   "execution_count": 3,
   "metadata": {},
   "outputs": [],
   "source": [
    "url = 'https://karki23.github.io/Weather-Data/assignment.html'\n",
    "sause = urllib.request.urlopen(url).read()"
   ]
  },
  {
   "cell_type": "code",
   "execution_count": 37,
   "metadata": {},
   "outputs": [
    {
     "name": "stdout",
     "output_type": "stream",
     "text": [
      "<a href=\"Albury.html\">Albury</a>\n",
      "<a href=\"BadgerysCreek.html\">Badgerys Creek</a>\n",
      "<a href=\"Cobar.html\">Cobar</a>\n",
      "<a href=\"CoffsHarbour.html\">Coffs Harbour</a>\n",
      "<a href=\"Moree.html\">Moree</a>\n",
      "<a href=\"Newcastle.html\">Newcastle</a>\n",
      "<a href=\"NorahHead.html\">NorahHead</a>\n",
      "<a href=\"NorfolkIsland.html\">Norfolk Island</a>\n",
      "<a href=\"Penrith.html\">Penrith</a>\n",
      "<a href=\"Richmond.html\">Richmond</a>\n",
      "<a href=\"Sydney.html\">Sydney</a>\n",
      "<a href=\"SydneyAirport.html\">Sydney Airport</a>\n",
      "<a href=\"WaggaWagga.html\">Wagga Wagga</a>\n",
      "<a href=\"Williamtown.html\">William town</a>\n",
      "<a href=\"Wollongong.html\">Wollongong</a>\n",
      "<a href=\"Canberra.html\">Canberra</a>\n",
      "<a href=\"Tuggeranong.html\">Tuggeranong</a>\n",
      "<a href=\"MountGinini.html\">Mount Ginini</a>\n",
      "<a href=\"Ballarat.html\">Ballarat</a>\n",
      "<a href=\"Bendigo.html\">Bendigo</a>\n",
      "<a href=\"Sale.html\">Sale</a>\n",
      "<a href=\"MelbourneAirport.html\">Melbourne Airport</a>\n",
      "<a href=\"Melbourne.html\">Melbourne</a>\n",
      "<a href=\"Mildura.html\">Mildura</a>\n",
      "<a href=\"Nhil.html\">Nhil</a>\n",
      "<a href=\"Portland.html\">Portland</a>\n",
      "<a href=\"Watsonia.html\">Watsonia</a>\n",
      "<a href=\"Dartmoor.html\">Dartmoor</a>\n",
      "<a href=\"Brisbane.html\">Brisbane</a>\n",
      "<a href=\"Cairns.html\">Cairns</a>\n",
      "<a href=\"GoldCoast.html\">Gold Coast</a>\n",
      "<a href=\"Townsville.html\">Townsville</a>\n",
      "<a href=\"Adelaide.html\">Adelaide</a>\n",
      "<a href=\"MountGambier.html\">Mount Gambier</a>\n",
      "<a href=\"Nuriootpa.html\">Nuriootpa</a>\n",
      "<a href=\"Woomera.html\">Woomera</a>\n",
      "<a href=\"Albany.html\">Albany</a>\n",
      "<a href=\"Witchcliffe.html\">Witchcliffe</a>\n",
      "<a href=\"PearceRAAF.html\">PearceRAAF</a>\n",
      "<a href=\"PerthAirport.html\">Perth Airport</a>\n",
      "<a href=\"Perth.html\">Perth</a>\n",
      "<a href=\"SalmonGums.html\">SalmonGums</a>\n",
      "<a href=\"Walpole.html\">Walpole</a>\n",
      "<a href=\"Hobart.html\">Hobart</a>\n",
      "<a href=\"Launceston.html\">Launceston</a>\n",
      "<a href=\"AliceSprings.html\">Alice Springs</a>\n",
      "<a href=\"Darwin.html\">Darwin</a>\n",
      "<a href=\"Katherine.html\">Katherine</a>\n",
      "<a href=\"Uluru.html\">Uluru</a>\n"
     ]
    }
   ],
   "source": [
    "srccode = bs.BeautifulSoup(sause,'lxml')\n",
    "for i in srccode.find_all('a'):\n",
    "    link = urllib.parse.urljoin(url,i.get('href'))\n",
    "    sause2 = urllib.request.urlopen(link).read()\n",
    "    code = bs.BeautifulSoup(sause2,'lxml')\n",
    "    #print(code)\n",
    "    table = code.find('table')\n",
    "    rows = table.find_all('tr')\n",
    "    output_rows =[]\n",
    "    for row in rows:\n",
    "        #print(row,'\\n')\n",
    "        output_row = []\n",
    "        columns = row.find_all(['th','td'])\n",
    "        for column in columns:\n",
    "            output_row.append(column.text)\n",
    "        output_rows.append(output_row)\n",
    "    #print(i)\n",
    "    st = i.text+'.csv'\n",
    "    with open(st,'w',newline='') as csvfile:\n",
    "        writer = csv.writer(csvfile)\n",
    "        writer.writerows(output_rows)\n"
   ]
  },
  {
   "cell_type": "code",
   "execution_count": null,
   "metadata": {},
   "outputs": [],
   "source": []
  }
 ],
 "metadata": {
  "kernelspec": {
   "display_name": "Python 3",
   "language": "python",
   "name": "python3"
  },
  "language_info": {
   "codemirror_mode": {
    "name": "ipython",
    "version": 3
   },
   "file_extension": ".py",
   "mimetype": "text/x-python",
   "name": "python",
   "nbconvert_exporter": "python",
   "pygments_lexer": "ipython3",
   "version": "3.7.0"
  }
 },
 "nbformat": 4,
 "nbformat_minor": 2
}
