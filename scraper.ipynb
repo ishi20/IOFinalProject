{
 "cells": [
  {
   "cell_type": "code",
   "execution_count": 6,
   "metadata": {},
   "outputs": [],
   "source": [
    "import urllib.request\n",
    "import urllib.parse\n",
    "import bs4 as bs\n",
    "import lxml\n",
    "import csv"
   ]
  },
  {
   "cell_type": "code",
   "execution_count": 3,
   "metadata": {},
   "outputs": [],
   "source": [
    "url = 'https://karki23.github.io/Weather-Data/assignment.html'\n",
    "sause = urllib.request.urlopen(url).read()"
   ]
  },
  {
   "cell_type": "code",
   "execution_count": 38,
   "metadata": {},
   "outputs": [],
   "source": [
    "srccode = bs.BeautifulSoup(sause,'lxml')\n",
    "for i in srccode.find_all('a'):\n",
    "    link = urllib.parse.urljoin(url,i.get('href'))\n",
    "    sause2 = urllib.request.urlopen(link).read()\n",
    "    code = bs.BeautifulSoup(sause2,'lxml')\n",
    "    #print(code)\n",
    "    table = code.find('table')\n",
    "    rows = table.find_all('tr')\n",
    "    output_rows =[]\n",
    "    for row in rows:\n",
    "        #print(row,'\\n')\n",
    "        output_row = []\n",
    "        columns = row.find_all(['th','td'])\n",
    "        for column in columns:\n",
    "            output_row.append(column.text)\n",
    "        output_rows.append(output_row)\n",
    "    #print(i)\n",
    "    st = i.text+'.csv'\n",
    "    with open(st,'w',newline='') as csvfile:\n",
    "        writer = csv.writer(csvfile)\n",
    "        writer.writerows(output_rows)\n"
   ]
  },
  {
   "cell_type": "code",
   "execution_count": null,
   "metadata": {},
   "outputs": [],
   "source": []
  }
 ],
 "metadata": {
  "kernelspec": {
   "display_name": "Python 3",
   "language": "python",
   "name": "python3"
  },
  "language_info": {
   "codemirror_mode": {
    "name": "ipython",
    "version": 3
   },
   "file_extension": ".py",
   "mimetype": "text/x-python",
   "name": "python",
   "nbconvert_exporter": "python",
   "pygments_lexer": "ipython3",
   "version": "3.7.0"
  }
 },
 "nbformat": 4,
 "nbformat_minor": 2
}
